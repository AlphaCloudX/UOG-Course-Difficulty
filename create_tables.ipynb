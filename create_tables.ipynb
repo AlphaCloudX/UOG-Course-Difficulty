{
 "cells": [
  {
   "metadata": {},
   "cell_type": "markdown",
   "source": "Imports, using pandas to handle ease of use with csv",
   "id": "81ae8f2de94dd934"
  },
  {
   "cell_type": "code",
   "id": "initial_id",
   "metadata": {
    "collapsed": true,
    "ExecuteTime": {
     "end_time": "2025-01-13T07:59:24.581808Z",
     "start_time": "2025-01-13T07:59:23.985672Z"
    }
   },
   "source": "import pandas as pd",
   "outputs": [],
   "execution_count": 1
  },
  {
   "metadata": {},
   "cell_type": "markdown",
   "source": "Open base csv file and load it so we can create the needed tables",
   "id": "eee6c34e9b50fe34"
  },
  {
   "metadata": {
    "ExecuteTime": {
     "end_time": "2025-01-13T08:02:42.262551Z",
     "start_time": "2025-01-13T08:02:42.237547Z"
    }
   },
   "cell_type": "code",
   "source": [
    "baseCsv = pd.read_csv(\"baseData.csv\")\n",
    "print(baseCsv)"
   ],
   "id": "f2fa3786d2704b7c",
   "outputs": [
    {
     "name": "stdout",
     "output_type": "stream",
     "text": [
      "                                          Course Title  \\\n",
      "0    ACCT*1220 Intro Financial Accounting (0.5 Cred...   \n",
      "1        ACCT*2230 Management Accounting (0.5 Credits)   \n",
      "2    ACCT*2290 Accounting Syst. & Data Analy (0.5 C...   \n",
      "3                   ACCT*3280 Auditing I (0.5 Credits)   \n",
      "4    ACCT*3330 Intermed Financial Account I (0.5 Cr...   \n",
      "..                                                 ...   \n",
      "954  ZOO*3700 Integrative Biology of Inverte (0.5 C...   \n",
      "955            ZOO*4070 Animal Behaviour (0.5 Credits)   \n",
      "956  ZOO*4300 Marine Biology & Oceanography (0.75 C...   \n",
      "957  ZOO*4910 Integrative Vertebrate Biology (0.5 C...   \n",
      "958  ZOO*4920 Lab Studies in Ornithology (0.25 Cred...   \n",
      "\n",
      "                 Professors  Maximum Class Size  Initial Enrollment  \\\n",
      "0    Dhaliwal, S, Lassou, P                1098                 987   \n",
      "1       Jagoda, K, Evans, R                1060                 850   \n",
      "2                  Hayes, B                  90                  43   \n",
      "3                 Zavitz, C                 125                 122   \n",
      "4                  Alyea, L                 180                 125   \n",
      "..                      ...                 ...                 ...   \n",
      "954                Smith, A                 174                 164   \n",
      "955               Norris, D                 180                 157   \n",
      "956             Crawford, S                  40                   9   \n",
      "957               Kosmal, P                  90                  84   \n",
      "958      Tuttle-Raycraft, S                  50                  50   \n",
      "\n",
      "     Ending Enrollment  \n",
      "0                  951  \n",
      "1                  803  \n",
      "2                   42  \n",
      "3                  114  \n",
      "4                   93  \n",
      "..                 ...  \n",
      "954                158  \n",
      "955                152  \n",
      "956                  9  \n",
      "957                 81  \n",
      "958                 50  \n",
      "\n",
      "[959 rows x 5 columns]\n"
     ]
    }
   ],
   "execution_count": 5
  },
  {
   "metadata": {},
   "cell_type": "markdown",
   "source": "ReProcesses CSV To Create A BreakDown Based On Course Code",
   "id": "54933dfc24507937"
  },
  {
   "metadata": {
    "ExecuteTime": {
     "end_time": "2025-01-13T08:17:40.463182Z",
     "start_time": "2025-01-13T08:17:40.377568Z"
    }
   },
   "cell_type": "code",
   "source": [
    "# This code block is responsible for creating an excel sheet based on course code, so all ACCT together etc.\n",
    "\n",
    "uniqueCourseTitles = {}\n",
    "\n",
    "# Iterate through all rows in csv\n",
    "for index, row in baseCsv.iterrows():\n",
    "    \n",
    "    currentCourse = row[\"Course Title\"].split(\"*\")[0]\n",
    "    \n",
    "    # If the entry doesn't exist\n",
    "    if currentCourse not in uniqueCourseTitles:\n",
    "         \n",
    "        uniqueCourseTitles[currentCourse] = {}\n",
    "        \n",
    "        for x in baseCsv.columns[2:]:\n",
    "            \n",
    "            uniqueCourseTitles[currentCourse][x] = row[x]\n",
    "            \n",
    "    # Append to existing entry\n",
    "    else:\n",
    "        \n",
    "        for x in baseCsv.columns[2:]:\n",
    "            uniqueCourseTitles[currentCourse][x] += row[x]\n",
    "    "
   ],
   "id": "18d32b62bd2626eb",
   "outputs": [],
   "execution_count": 19
  },
  {
   "metadata": {
    "ExecuteTime": {
     "end_time": "2025-01-13T08:31:48.035790Z",
     "start_time": "2025-01-13T08:31:48.015786Z"
    }
   },
   "cell_type": "code",
   "source": [
    "# Compute The Stats For Each Course Code Type\n",
    "\n",
    "# Compute the students dropped and % drop, then export to a csv\n",
    "for i in uniqueCourseTitles:\n",
    "    \n",
    "    # Include max to handle cases where for some random courses people were added throughout the year\n",
    "    uniqueCourseTitles[i][\"Students Dropped\"] = max(uniqueCourseTitles[i][\"Initial Enrollment\"] -  uniqueCourseTitles[i][\"Ending Enrollment\"], 0)\n",
    "    \n",
    "    uniqueCourseTitles[i][\"Percentage Students Dropped\"] = max(1 - (uniqueCourseTitles[i][\"Ending Enrollment\"]/uniqueCourseTitles[i][\"Initial Enrollment\"]), 0)\n",
    "    \n",
    "    uniqueCourseTitles[i][\"Empty Spots To Register\"] = min(uniqueCourseTitles[i][\"Maximum Class Size\"] - uniqueCourseTitles[i][\"Initial Enrollment\"], 0)\n",
    "    \n",
    "    uniqueCourseTitles[i][\"Empty Spots To Register\"] = max(1 - (uniqueCourseTitles[i][\"Initial Enrollment\"]/uniqueCourseTitles[i][\"Maximum Class Size\"]), 0)\n",
    "    \n",
    "    \n",
    "df = pd.DataFrame.from_dict(uniqueCourseTitles)\n",
    "df.to_csv('generalCourseInformation.csv')\n",
    "    "
   ],
   "id": "dc3adcac0ed1eccc",
   "outputs": [],
   "execution_count": 23
  },
  {
   "metadata": {},
   "cell_type": "markdown",
   "source": "Now We Can Take The Base CSV And Apply The Same Thing Just For Individual Courses",
   "id": "9dbaf9391278bfcf"
  },
  {
   "metadata": {
    "ExecuteTime": {
     "end_time": "2025-01-13T08:44:49.788410Z",
     "start_time": "2025-01-13T08:44:49.658381Z"
    }
   },
   "cell_type": "code",
   "source": [
    "# This code block is responsible for creating an excel sheet based on course code, so all ACCT together etc.\n",
    "\n",
    "uniqueCourseTitles = {}\n",
    "\n",
    "# Iterate through all rows in csv\n",
    "for index, row in baseCsv.iterrows():\n",
    "    \n",
    "    currentCourse = row[\"Course Title\"]\n",
    "    \n",
    "    # If the entry doesn't exist\n",
    "    if currentCourse not in uniqueCourseTitles:\n",
    "         \n",
    "        uniqueCourseTitles[currentCourse] = {}\n",
    "        \n",
    "        for x in baseCsv.columns[2:]:\n",
    "            \n",
    "            uniqueCourseTitles[currentCourse][x] = row[x]\n",
    "            \n",
    "    # Append to existing entry\n",
    "    else:\n",
    "        \n",
    "        for x in baseCsv.columns[2:]:\n",
    "            uniqueCourseTitles[currentCourse][x] += row[x]\n",
    "            \n",
    "            \n",
    "# Compute The Stats For Each Course Code Type\n",
    "\n",
    "# Compute the students dropped and % drop, then export to a csv\n",
    "for i in uniqueCourseTitles:\n",
    "    # Calculate Students Dropped\n",
    "    uniqueCourseTitles[i][\"Students Dropped\"] = max(uniqueCourseTitles[i][\"Initial Enrollment\"] - uniqueCourseTitles[i][\"Ending Enrollment\"], 0)\n",
    "    \n",
    "    # Prevent division by 0 cases\n",
    "    if uniqueCourseTitles[i][\"Initial Enrollment\"] > 0:\n",
    "        uniqueCourseTitles[i][\"Percentage Students Dropped\"] = max(1 - (uniqueCourseTitles[i][\"Ending Enrollment\"] / uniqueCourseTitles[i][\"Initial Enrollment\"]), 0)\n",
    "    else:\n",
    "        uniqueCourseTitles[i][\"Percentage Students Dropped\"] = 0 \n",
    "    \n",
    "    if uniqueCourseTitles[i][\"Maximum Class Size\"] > 0:\n",
    "        uniqueCourseTitles[i][\"Empty Spots To Register\"] = min(uniqueCourseTitles[i][\"Maximum Class Size\"] - uniqueCourseTitles[i][\"Initial Enrollment\"], 0)\n",
    "        uniqueCourseTitles[i][\"Empty Spots To Register\"] = max(1 - (uniqueCourseTitles[i][\"Initial Enrollment\"] / uniqueCourseTitles[i][\"Maximum Class Size\"]), 0)\n",
    "    else:\n",
    "        uniqueCourseTitles[i][\"Empty Spots To Register\"] = 0\n",
    "    \n",
    "    \n",
    "df = pd.DataFrame.from_dict(uniqueCourseTitles)\n",
    "df.to_csv('specificCourseInformation.csv')"
   ],
   "id": "5a457471980aed4",
   "outputs": [],
   "execution_count": 28
  }
 ],
 "metadata": {
  "kernelspec": {
   "display_name": "Python 3",
   "language": "python",
   "name": "python3"
  },
  "language_info": {
   "codemirror_mode": {
    "name": "ipython",
    "version": 2
   },
   "file_extension": ".py",
   "mimetype": "text/x-python",
   "name": "python",
   "nbconvert_exporter": "python",
   "pygments_lexer": "ipython2",
   "version": "2.7.6"
  }
 },
 "nbformat": 4,
 "nbformat_minor": 5
}
